{
  "nbformat": 4,
  "nbformat_minor": 0,
  "metadata": {
    "colab": {
      "name": "cancer_analisis.ipynb",
      "provenance": [],
      "collapsed_sections": [
        "tND4I4J3ZYee",
        "eGuKvlvaYc7m"
      ],
      "toc_visible": true
    },
    "kernelspec": {
      "name": "python3",
      "display_name": "Python 3"
    }
  },
  "cells": [
    {
      "cell_type": "code",
      "metadata": {
        "id": "OvgnmLr1IPH3",
        "colab_type": "code",
        "outputId": "51ee7969-de13-4817-c420-1d47fe38e5e2",
        "colab": {
          "base_uri": "https://localhost:8080/",
          "height": 122
        }
      },
      "source": [
        "from google.colab import drive\n",
        "drive.mount('/content/drive')"
      ],
      "execution_count": 0,
      "outputs": [
        {
          "output_type": "stream",
          "text": [
            "Go to this URL in a browser: https://accounts.google.com/o/oauth2/auth?client_id=947318989803-6bn6qk8qdgf4n4g3pfee6491hc0brc4i.apps.googleusercontent.com&redirect_uri=urn%3Aietf%3Awg%3Aoauth%3A2.0%3Aoob&scope=email%20https%3A%2F%2Fwww.googleapis.com%2Fauth%2Fdocs.test%20https%3A%2F%2Fwww.googleapis.com%2Fauth%2Fdrive%20https%3A%2F%2Fwww.googleapis.com%2Fauth%2Fdrive.photos.readonly%20https%3A%2F%2Fwww.googleapis.com%2Fauth%2Fpeopleapi.readonly&response_type=code\n",
            "\n",
            "Enter your authorization code:\n",
            "··········\n",
            "Mounted at /content/drive\n"
          ],
          "name": "stdout"
        }
      ]
    },
    {
      "cell_type": "markdown",
      "metadata": {
        "id": "tND4I4J3ZYee",
        "colab_type": "text"
      },
      "source": [
        "# **ALGORITMO PRINCIPAL DE PRESENTACIÓN**\n",
        "---\n"
      ]
    },
    {
      "cell_type": "code",
      "metadata": {
        "id": "1MUlePRsJ0Xv",
        "colab_type": "code",
        "colab": {}
      },
      "source": [
        "#Todas las librerias necesarias excepto las dos primeras que es el algoritmo de clasificacion\n",
        "from sklearn.neighbors import KNeighborsClassifier\n",
        "from sklearn.neighbors import KNeighborsRegressor\n",
        "from google.colab.patches import cv2_imshow\n",
        "from sklearn.metrics import classification_report\n",
        "from sklearn.metrics import confusion_matrix\n",
        "from sklearn import svm\n",
        "from google.colab import files\n",
        "from skimage import exposure\n",
        "from skimage import feature\n",
        "import argparse #Parsear desde la linea de comandos\n",
        "from imutils import paths\n",
        "from imutils.object_detection import non_max_suppression\n",
        "import imutils\n",
        "import numpy as np\n",
        "import cv2\n",
        "import glob\n",
        "import re"
      ],
      "execution_count": 0,
      "outputs": []
    },
    {
      "cell_type": "code",
      "metadata": {
        "id": "Jwdb6M4yuS5c",
        "colab_type": "code",
        "colab": {}
      },
      "source": [
        "all_images_train = [] #Contiene las imagenes sin el HOG\n",
        "data = []             #Datos HOG de cada imagen\n",
        "labels = []           #Datos de etiquetas que identifican cada imagen\n",
        "\n",
        "images_train = glob.glob('/content/drive/My Drive/Colab Notebooks/cancer_images/mama_cancer_png/train' + '/*.png')\n",
        "\n",
        "for i in images_train:\n",
        "  if i.endswith(\"png\"):\n",
        "    all_images_train.append(i)"
      ],
      "execution_count": 0,
      "outputs": []
    },
    {
      "cell_type": "code",
      "metadata": {
        "id": "ydB0-E4_G2XC",
        "colab_type": "code",
        "outputId": "f9995861-f683-4780-94eb-e5340438447a",
        "colab": {
          "base_uri": "https://localhost:8080/",
          "height": 34
        }
      },
      "source": [
        "data.shape"
      ],
      "execution_count": 0,
      "outputs": [
        {
          "output_type": "execute_result",
          "data": {
            "text/plain": [
              "(512, 367236)"
            ]
          },
          "metadata": {
            "tags": []
          },
          "execution_count": 109
        }
      ]
    },
    {
      "cell_type": "code",
      "metadata": {
        "id": "hJZnO5fy4jqz",
        "colab_type": "code",
        "colab": {}
      },
      "source": [
        "def splitfilename(filename):\n",
        "    sname=\"\"\n",
        "    sext=\"\"\n",
        "    i=filename.rfind(\".\")\n",
        "    if(i!=0):\n",
        "        n=len(filename)\n",
        "        j=n-i-1\n",
        "        sname=filename[76:i]\n",
        "        #sext=filename[-j:]    \n",
        "    return sname\n",
        "\n",
        "def splitfilenametest(filename):\n",
        "    sname=\"\"\n",
        "    sext=\"\"\n",
        "    i=filename.rfind(\".\")\n",
        "    if(i!=0):\n",
        "        n=len(filename)\n",
        "        j=n-i-1\n",
        "        sname=filename[75:i]\n",
        "        #sext=filename[-j:]    \n",
        "    return sname"
      ],
      "execution_count": 0,
      "outputs": []
    },
    {
      "cell_type": "code",
      "metadata": {
        "id": "TEm6npm7o9Jg",
        "colab_type": "code",
        "colab": {}
      },
      "source": [
        "for img in all_images_train:\n",
        "  image = cv2.imread(img)\n",
        "  name = splitfilename(img)\n",
        "  gray = cv2.cvtColor(image, cv2.COLOR_BGR2GRAY)\n",
        "  edged = imutils.auto_canny(gray)\n",
        "  H = feature.hog(gray, orientations=9, pixels_per_cell=(10, 10), cells_per_block=(2, 2), transform_sqrt=True, block_norm=\"L1\")\n",
        "  data.append(H)\n",
        "  labels.append(name)"
      ],
      "execution_count": 0,
      "outputs": []
    },
    {
      "cell_type": "code",
      "metadata": {
        "id": "8ONfVYLzvjoh",
        "colab_type": "code",
        "colab": {}
      },
      "source": [
        "#Mostrar datos del HOG\n",
        "for i in labels:\n",
        "  print(i)\n",
        "\n",
        "for i in data:\n",
        "  print(i)"
      ],
      "execution_count": 0,
      "outputs": []
    },
    {
      "cell_type": "code",
      "metadata": {
        "id": "eOulmCFChs8e",
        "colab_type": "code",
        "outputId": "35bb565d-0d5b-427d-f5fc-2c3b91bbbfdc",
        "colab": {
          "base_uri": "https://localhost:8080/",
          "height": 85
        }
      },
      "source": [
        "#Entrenamiento por medio de KKN\n",
        "print(\"Training KNN clasiffier\")\n",
        "model = KNeighborsClassifier(n_neighbors=2, p=1)\n",
        "\n",
        "print(model.fit(data, labels))\n",
        "print('Accuracy is: {:.2f}'.format(model.score(data, labels)))"
      ],
      "execution_count": 0,
      "outputs": [
        {
          "output_type": "stream",
          "text": [
            "Training KNN clasiffier\n",
            "KNeighborsClassifier(algorithm='auto', leaf_size=30, metric='minkowski',\n",
            "                     metric_params=None, n_jobs=None, n_neighbors=2, p=1,\n",
            "                     weights='uniform')\n"
          ],
          "name": "stdout"
        }
      ]
    },
    {
      "cell_type": "code",
      "metadata": {
        "colab_type": "code",
        "outputId": "be02a47b-1862-4d71-a4f6-f6700b05c22c",
        "id": "SinQnX7YWse6",
        "colab": {
          "base_uri": "https://localhost:8080/",
          "height": 34
        }
      },
      "source": [
        "#Accuracy of training set with KKN\n",
        "print('Accuracy is: {:.2f}'.format(model.score(data, labels)))"
      ],
      "execution_count": 0,
      "outputs": [
        {
          "output_type": "stream",
          "text": [
            "Accuracy is: 0.50\n"
          ],
          "name": "stdout"
        }
      ]
    },
    {
      "cell_type": "code",
      "metadata": {
        "id": "Lb8-p-U-CAi9",
        "colab_type": "code",
        "outputId": "7731355c-0036-4285-e4f8-2ff9cb445362",
        "colab": {
          "base_uri": "https://localhost:8080/",
          "height": 88
        }
      },
      "source": [
        "#Support vector machine classifier\n",
        "clf = svm.SVC()\n",
        "data = np.array(data)\n",
        "labels = np.array(labels)\n",
        "\n",
        "clf.fit(data, labels)\n",
        "print('Accuracy is: {:.2f}'.format(clf.score(data, labels)))"
      ],
      "execution_count": 0,
      "outputs": [
        {
          "output_type": "stream",
          "text": [
            "/usr/local/lib/python3.6/dist-packages/sklearn/svm/base.py:193: FutureWarning: The default value of gamma will change from 'auto' to 'scale' in version 0.22 to account better for unscaled features. Set gamma explicitly to 'auto' or 'scale' to avoid this warning.\n",
            "  \"avoid this warning.\", FutureWarning)\n"
          ],
          "name": "stderr"
        },
        {
          "output_type": "stream",
          "text": [
            "Accuracy is: 1.00\n"
          ],
          "name": "stdout"
        }
      ]
    },
    {
      "cell_type": "code",
      "metadata": {
        "id": "VaH387ASJMv4",
        "colab_type": "code",
        "colab": {}
      },
      "source": [
        "all_images_test = []\n",
        "images_test = glob.glob('/content/drive/My Drive/Colab Notebooks/cancer_images/mama_cancer_png/test' + '/*.png')\n",
        "\n",
        "for i in images_test:\n",
        "  if i.endswith(\"png\"):\n",
        "    all_images_test.append(i)"
      ],
      "execution_count": 0,
      "outputs": []
    },
    {
      "cell_type": "code",
      "metadata": {
        "id": "SnVwYUuHyRRh",
        "colab_type": "code",
        "colab": {}
      },
      "source": [
        "for i in all_images_test:\n",
        "  print(i)"
      ],
      "execution_count": 0,
      "outputs": []
    },
    {
      "cell_type": "code",
      "metadata": {
        "colab_type": "code",
        "id": "4SqbIzn8WrFv",
        "colab": {}
      },
      "source": [
        "#Texto de título predeterminado { display-mode: \"code\" }\n",
        "for img in all_images_test:\n",
        "  image = cv2.imread(img)\n",
        "  name = splitfilenametest(img)\n",
        "  gray = cv2.cvtColor(image, cv2.COLOR_BGR2GRAY)\n",
        "\n",
        "  (h, hog_image) = feature.hog(gray, orientations=9, pixels_per_cell=(10, 10), cells_per_block=(2, 2), transform_sqrt=True, block_norm=\"L1\", visualise=True)\n",
        "  pred = model.predict(h.reshape(1, -1))[0]\n",
        "\n",
        "  print(pred)\n",
        "  print(type(pred))\n",
        "\n",
        "  #Visualize HOG image\n",
        "  #hog_image = exposure.rescale_intensity(hog_image, out_range=(0, 255))\n",
        "  #hog_image = hog_image.astype(\"uint8\")\n",
        "  #cv2_imshow(hog_image)\n",
        "\n",
        "  text = str(pred)\n",
        "  #Show prediction\n",
        "  cv2.putText(image, \"Prediction: \" + text, (5, 25), cv2.FONT_HERSHEY_TRIPLEX, 0.8, (0, 255, 0), 3)\n",
        "  cv2_imshow(image)\n",
        "  cv2.waitKey(0)\n",
        "\n",
        "  cv2.putText(image, \"Original: \" + name, (5,70), cv2.FONT_HERSHEY_TRIPLEX, 0.8, (0, 255, 0), 3)\n",
        "  cv2_imshow(image)\n",
        "  cv2.waitKey(0)"
      ],
      "execution_count": 0,
      "outputs": []
    },
    {
      "cell_type": "markdown",
      "metadata": {
        "id": "eGuKvlvaYc7m",
        "colab_type": "text"
      },
      "source": [
        "# **EJECUCIÓN Y PRUEBA DE ALGORITMOS**\n"
      ]
    },
    {
      "cell_type": "code",
      "metadata": {
        "id": "zNwWUbCzZTlW",
        "colab_type": "code",
        "colab": {}
      },
      "source": [
        ""
      ],
      "execution_count": 0,
      "outputs": []
    }
  ]
}