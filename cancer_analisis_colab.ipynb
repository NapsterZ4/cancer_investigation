{
  "nbformat": 4,
  "nbformat_minor": 0,
  "metadata": {
    "colab": {
      "name": "cancer_analisis.ipynb",
      "provenance": [],
      "collapsed_sections": [],
      "toc_visible": true
    },
    "kernelspec": {
      "name": "python3",
      "display_name": "Python 3"
    }
  },
  "cells": [
    {
      "cell_type": "code",
      "metadata": {
        "id": "OvgnmLr1IPH3",
        "colab_type": "code",
        "outputId": "de40d98c-1eaf-4a99-9647-f7b3151d37e7",
        "colab": {
          "base_uri": "https://localhost:8080/",
          "height": 34
        }
      },
      "source": [
        "from google.colab import drive\n",
        "drive.mount('/content/drive')"
      ],
      "execution_count": 0,
      "outputs": [
        {
          "output_type": "stream",
          "text": [
            "Drive already mounted at /content/drive; to attempt to forcibly remount, call drive.mount(\"/content/drive\", force_remount=True).\n"
          ],
          "name": "stdout"
        }
      ]
    },
    {
      "cell_type": "code",
      "metadata": {
        "id": "1MUlePRsJ0Xv",
        "colab_type": "code",
        "colab": {}
      },
      "source": [
        "#Todas las librerias necesarias excepto la primera que es el algoritmo de clasificacion\n",
        "from sklearn.neighbors import KNeighborsClassifier\n",
        "from google.colab.patches import cv2_imshow\n",
        "from google.colab import files\n",
        "from skimage import exposure\n",
        "from skimage import feature\n",
        "import argparse #Parsear desde la linea de comandos\n",
        "from imutils import paths\n",
        "import imutils\n",
        "import cv2\n",
        "import glob\n",
        "import re"
      ],
      "execution_count": 0,
      "outputs": []
    },
    {
      "cell_type": "code",
      "metadata": {
        "id": "Jwdb6M4yuS5c",
        "colab_type": "code",
        "colab": {}
      },
      "source": [
        "all_images_train = [] #Contiene las imagenes sin el HOG\n",
        "data = [] #Datos HOG de cada imagen\n",
        "labels = [] #Datos de etiquetas que identifican cada imagen\n",
        "\n",
        "images_train = glob.glob('/content/drive/My Drive/Colab Notebooks/cancer_images/mama_cancer_png/train' + '/*.png')\n",
        "\n",
        "for i in images_train:\n",
        "  if i.endswith(\"png\"):\n",
        "    all_images_train.append(i)"
      ],
      "execution_count": 0,
      "outputs": []
    },
    {
      "cell_type": "code",
      "metadata": {
        "id": "hJZnO5fy4jqz",
        "colab_type": "code",
        "colab": {}
      },
      "source": [
        "def splitfilename(filename):\n",
        "    sname=\"\"\n",
        "    sext=\"\"\n",
        "    i=filename.rfind(\".\")\n",
        "    if(i!=0):\n",
        "        n=len(filename)\n",
        "        j=n-i-1\n",
        "        sname=filename[0:i]\n",
        "        sext=filename[-j:]    \n",
        "    return sname, sext\n",
        "\n",
        "def split_final_name(filename):\n",
        "  "
      ],
      "execution_count": 0,
      "outputs": []
    },
    {
      "cell_type": "code",
      "metadata": {
        "id": "TEm6npm7o9Jg",
        "colab_type": "code",
        "colab": {}
      },
      "source": [
        "for img in all_images_train:\n",
        "  image = cv2.imread(img)\n",
        "  name = splitfilename(img)\n",
        "  gray = cv2.cvtColor(image, cv2.COLOR_BGR2GRAY)\n",
        "  edged = imutils.auto_canny(gray)\n",
        "  H = feature.hog(gray, orientations=9, pixels_per_cell=(10, 10), cells_per_block=(2, 2), transform_sqrt=True, block_norm=\"L1\")\n",
        "  data.append(H)\n",
        "  labels.append(name)"
      ],
      "execution_count": 0,
      "outputs": []
    },
    {
      "cell_type": "code",
      "metadata": {
        "id": "8ONfVYLzvjoh",
        "colab_type": "code",
        "colab": {}
      },
      "source": [
        "#Mostrar datos del HOG\n",
        "for i in labels:\n",
        "  print(i)\n",
        "\n",
        "for i in data:\n",
        "  print(i)"
      ],
      "execution_count": 0,
      "outputs": []
    },
    {
      "cell_type": "code",
      "metadata": {
        "id": "eOulmCFChs8e",
        "colab_type": "code",
        "outputId": "bb0b1667-ac92-49e4-a8ef-37f96b817539",
        "colab": {
          "base_uri": "https://localhost:8080/",
          "height": 85
        }
      },
      "source": [
        "#Entrenamiento por medio de KKN\n",
        "\n",
        "print(\"Training KNN clasiffier\")\n",
        "model = KNeighborsClassifier(n_neighbors=3)\n",
        "print(model.fit(data, labels))"
      ],
      "execution_count": 0,
      "outputs": [
        {
          "output_type": "stream",
          "text": [
            "Training KNN clasiffier\n",
            "KNeighborsClassifier(algorithm='auto', leaf_size=30, metric='minkowski',\n",
            "                     metric_params=None, n_jobs=None, n_neighbors=3, p=2,\n",
            "                     weights='uniform')\n"
          ],
          "name": "stdout"
        }
      ]
    },
    {
      "cell_type": "code",
      "metadata": {
        "id": "VaH387ASJMv4",
        "colab_type": "code",
        "colab": {}
      },
      "source": [
        "all_images_test = []\n",
        "images_test = glob.glob('/content/drive/My Drive/Colab Notebooks/cancer_images/mama_cancer_png/test' + '/*.png')\n",
        "\n",
        "for i in images_test:\n",
        "  if i.endswith(\"png\"):\n",
        "    all_images_test.append(i)"
      ],
      "execution_count": 0,
      "outputs": []
    },
    {
      "cell_type": "code",
      "metadata": {
        "id": "2jGdtUkqLqVm",
        "colab_type": "code",
        "colab": {}
      },
      "source": [
        "for img in all_images_test:\n",
        "  image = cv2.imread(img)\n",
        "  #name = splitfilename(img)\n",
        "  gray = cv2.cvtColor(image, cv2.COLOR_BGR2GRAY)\n",
        "\n",
        "  (h, hog_image) = feature.hog(gray, orientations=9, pixels_per_cell=(10, 10), cells_per_block=(2, 2), transform_sqrt=True, block_norm=\"L1\", visualise=True)\n",
        "  pred = model.predict(h.reshape(1, -1))[0]\n",
        "\n",
        "  print(pred)\n",
        "  print(type(pred))\n",
        "\n",
        "  #Visualize HOG image\n",
        "  hog_image = exposure.rescale_intensity(hog_image, out_range=(0, 255))\n",
        "  hog_image = hog_image.astype(\"uint8\")\n",
        "  cv2_imshow(hog_image)\n",
        "\n",
        "  text = str(img)\n",
        "  #Show prediction\n",
        "  cv2.putText(image, img, (5, 25), cv2.FONT_HERSHEY_COMPLEX_SMALL, 0.8, (0, 200, 0), 3)\n",
        "  cv2_imshow(image)\n",
        "  cv2.waitKey(0)\n",
        "\n",
        "  #cv2.putText(image, pred.putText(img, \"Prediction\"), (10,35), cv2.FONT_HERSHEY_COMPLEX_SMALL, 1.0, (0, 255, 0), 3)\n",
        "  #cv2_imshow(\"Test image #{}\".format(img + 1), image)\n",
        "  #cv2.waitKey(0)"
      ],
      "execution_count": 0,
      "outputs": []
    },
    {
      "cell_type": "code",
      "metadata": {
        "id": "MAIXL1gLMYWw",
        "colab_type": "code",
        "outputId": "c946697f-c245-410a-dcb2-e1dee4ce8bbd",
        "colab": {
          "base_uri": "https://localhost:8080/",
          "height": 180
        }
      },
      "source": [
        ""
      ],
      "execution_count": 0,
      "outputs": [
        {
          "output_type": "error",
          "ename": "AttributeError",
          "evalue": "ignored",
          "traceback": [
            "\u001b[0;31m---------------------------------------------------------------------------\u001b[0m",
            "\u001b[0;31mAttributeError\u001b[0m                            Traceback (most recent call last)",
            "\u001b[0;32m<ipython-input-94-42eb7f204e48>\u001b[0m in \u001b[0;36m<module>\u001b[0;34m()\u001b[0m\n\u001b[0;32m----> 1\u001b[0;31m \u001b[0;32mfor\u001b[0m \u001b[0;34m(\u001b[0m\u001b[0mx\u001b[0m\u001b[0;34m,\u001b[0m \u001b[0my\u001b[0m\u001b[0;34m,\u001b[0m \u001b[0mw\u001b[0m\u001b[0;34m,\u001b[0m \u001b[0mh\u001b[0m\u001b[0;34m)\u001b[0m \u001b[0;32min\u001b[0m \u001b[0mh\u001b[0m\u001b[0;34m.\u001b[0m\u001b[0miter\u001b[0m\u001b[0;34m(\u001b[0m\u001b[0;34m)\u001b[0m\u001b[0;34m:\u001b[0m\u001b[0;34m\u001b[0m\u001b[0;34m\u001b[0m\u001b[0m\n\u001b[0m\u001b[1;32m      2\u001b[0m                 \u001b[0mcv2\u001b[0m\u001b[0;34m.\u001b[0m\u001b[0mrectangle\u001b[0m\u001b[0;34m(\u001b[0m\u001b[0morig\u001b[0m\u001b[0;34m,\u001b[0m \u001b[0;34m(\u001b[0m\u001b[0mx\u001b[0m\u001b[0;34m,\u001b[0m \u001b[0my\u001b[0m\u001b[0;34m)\u001b[0m\u001b[0;34m,\u001b[0m \u001b[0;34m(\u001b[0m\u001b[0mx\u001b[0m \u001b[0;34m+\u001b[0m \u001b[0mw\u001b[0m\u001b[0;34m,\u001b[0m \u001b[0my\u001b[0m \u001b[0;34m+\u001b[0m \u001b[0mh\u001b[0m\u001b[0;34m)\u001b[0m\u001b[0;34m,\u001b[0m \u001b[0;34m(\u001b[0m\u001b[0;36m0\u001b[0m\u001b[0;34m,\u001b[0m \u001b[0;36m0\u001b[0m\u001b[0;34m,\u001b[0m \u001b[0;36m255\u001b[0m\u001b[0;34m)\u001b[0m\u001b[0;34m,\u001b[0m \u001b[0;36m2\u001b[0m\u001b[0;34m)\u001b[0m\u001b[0;34m\u001b[0m\u001b[0;34m\u001b[0m\u001b[0m\n",
            "\u001b[0;31mAttributeError\u001b[0m: 'numpy.ndarray' object has no attribute 'iter'"
          ]
        }
      ]
    }
  ]
}